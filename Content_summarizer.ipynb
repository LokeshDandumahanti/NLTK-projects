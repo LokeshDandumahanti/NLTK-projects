{
 "cells": [
  {
   "cell_type": "code",
   "execution_count": 1,
   "metadata": {},
   "outputs": [
    {
     "name": "stderr",
     "output_type": "stream",
     "text": [
      "[nltk_data] Downloading package punkt to\n",
      "[nltk_data]     C:\\Users\\vijay\\AppData\\Roaming\\nltk_data...\n"
     ]
    },
    {
     "name": "stdout",
     "output_type": "stream",
     "text": [
      "Summary:\n",
      "It is seen as a subset of artificial intelligence.\n"
     ]
    },
    {
     "name": "stderr",
     "output_type": "stream",
     "text": [
      "[nltk_data]   Package punkt is already up-to-date!\n",
      "[nltk_data] Downloading package stopwords to\n",
      "[nltk_data]     C:\\Users\\vijay\\AppData\\Roaming\\nltk_data...\n",
      "[nltk_data]   Package stopwords is already up-to-date!\n"
     ]
    }
   ],
   "source": [
    "import nltk\n",
    "from nltk.corpus import stopwords\n",
    "from nltk.tokenize import word_tokenize, sent_tokenize\n",
    "import joblib\n",
    "\n",
    "# Download NLTK resources\n",
    "nltk.download('punkt')\n",
    "nltk.download('stopwords')\n",
    "\n",
    "# Sample text document\n",
    "text = \"\"\"\n",
    "Machine learning (ML) is the scientific study of algorithms and statistical models that computer systems use to perform a specific task without using explicit instructions, relying on patterns and inference instead. It is seen as a subset of artificial intelligence. Machine learning algorithms build a mathematical model based on sample data, known as \"training data\", in order to make predictions or decisions without being explicitly programmed to perform the task. Machine learning algorithms are used in a wide variety of applications, such as email filtering, and computer vision, where it is infeasible to develop an algorithm of specific instructions for performing the task.\n",
    "\"\"\"\n",
    "\n",
    "# Tokenize the text into sentences\n",
    "sentences = sent_tokenize(text)\n",
    "\n",
    "# Tokenize the text into words and remove stopwords\n",
    "stop_words = set(stopwords.words('english'))\n",
    "word_tokens = word_tokenize(text.lower())\n",
    "filtered_tokens = [word for word in word_tokens if word.isalnum() and word not in stop_words]\n",
    "\n",
    "# Calculate word frequency\n",
    "word_freq = nltk.FreqDist(filtered_tokens)\n",
    "\n",
    "# Assign scores to sentences based on the sum of their word frequencies\n",
    "sent_scores = {}\n",
    "for sentence in sentences:\n",
    "    for word in word_tokenize(sentence.lower()):\n",
    "        if word in word_freq.keys():\n",
    "            if len(sentence.split(' ')) < 30:  # Consider only sentences with less than 30 words\n",
    "                if sentence not in sent_scores.keys():\n",
    "                    sent_scores[sentence] = word_freq[word]\n",
    "                else:\n",
    "                    sent_scores[sentence] += word_freq[word]\n",
    "\n",
    "# Select the top N sentences with highest scores for summarization\n",
    "num_sentences = 2  # Number of sentences in the summary\n",
    "summary_sentences = sorted(sent_scores, key=sent_scores.get, reverse=True)[:num_sentences]\n",
    "\n",
    "# Generate the summary\n",
    "summary = ' '.join(summary_sentences)\n",
    "print(\"Summary:\")\n",
    "print(summary)\n",
    "\n",
    "\n"
   ]
  }
 ],
 "metadata": {
  "kernelspec": {
   "display_name": "Python 3",
   "language": "python",
   "name": "python3"
  },
  "language_info": {
   "codemirror_mode": {
    "name": "ipython",
    "version": 3
   },
   "file_extension": ".py",
   "mimetype": "text/x-python",
   "name": "python",
   "nbconvert_exporter": "python",
   "pygments_lexer": "ipython3",
   "version": "3.10.0"
  }
 },
 "nbformat": 4,
 "nbformat_minor": 2
}
